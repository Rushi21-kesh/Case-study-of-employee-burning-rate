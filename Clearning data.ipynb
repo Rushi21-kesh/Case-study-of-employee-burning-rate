{
 "cells": [
  {
   "cell_type": "markdown",
   "metadata": {},
   "source": [
    "# Revature Project 2 : "
   ]
  },
  {
   "cell_type": "markdown",
   "metadata": {},
   "source": [
    "### Spark Dataframe and SQL:\n",
    "\n",
    "    - Data cleaning\n",
    "    - Create dataframe using spark dataframe\n",
    "    - Create database using spark sql\n",
    "    - Required view\n",
    "    - Query : \n",
    "            - Name of query\n",
    "            - Syntax\n",
    "            - Output\n",
    "            - Analysis/Understanding\n",
    "    - "
   ]
  },
  {
   "cell_type": "code",
   "execution_count": 19,
   "metadata": {},
   "outputs": [],
   "source": [
    "import pandas as pd\n",
    "import numpy as np\n",
    "import pandas_profiling as pf\n",
    "import seaborn as sns\n",
    "import matplotlib.pyplot as plt"
   ]
  },
  {
   "cell_type": "code",
   "execution_count": 36,
   "metadata": {},
   "outputs": [
    {
     "data": {
      "text/html": [
       "<div>\n",
       "<style scoped>\n",
       "    .dataframe tbody tr th:only-of-type {\n",
       "        vertical-align: middle;\n",
       "    }\n",
       "\n",
       "    .dataframe tbody tr th {\n",
       "        vertical-align: top;\n",
       "    }\n",
       "\n",
       "    .dataframe thead th {\n",
       "        text-align: right;\n",
       "    }\n",
       "</style>\n",
       "<table border=\"1\" class=\"dataframe\">\n",
       "  <thead>\n",
       "    <tr style=\"text-align: right;\">\n",
       "      <th></th>\n",
       "      <th>Employee ID</th>\n",
       "      <th>Date of Joining</th>\n",
       "      <th>Gender</th>\n",
       "      <th>Company Type</th>\n",
       "      <th>WFH Setup Available</th>\n",
       "      <th>Designation</th>\n",
       "      <th>Resource Allocation</th>\n",
       "      <th>Mental Fatigue Score</th>\n",
       "      <th>Burn Rate</th>\n",
       "    </tr>\n",
       "  </thead>\n",
       "  <tbody>\n",
       "    <tr>\n",
       "      <th>0</th>\n",
       "      <td>fffe32003000360033003200</td>\n",
       "      <td>9/30/2008</td>\n",
       "      <td>Female</td>\n",
       "      <td>Service</td>\n",
       "      <td>No</td>\n",
       "      <td>2</td>\n",
       "      <td>3.0</td>\n",
       "      <td>3.8</td>\n",
       "      <td>0.16</td>\n",
       "    </tr>\n",
       "    <tr>\n",
       "      <th>1</th>\n",
       "      <td>fffe3700360033003500</td>\n",
       "      <td>11/30/2008</td>\n",
       "      <td>Male</td>\n",
       "      <td>Service</td>\n",
       "      <td>Yes</td>\n",
       "      <td>1</td>\n",
       "      <td>2.0</td>\n",
       "      <td>5.0</td>\n",
       "      <td>0.36</td>\n",
       "    </tr>\n",
       "    <tr>\n",
       "      <th>2</th>\n",
       "      <td>fffe31003300320037003900</td>\n",
       "      <td>3/10/2008</td>\n",
       "      <td>Female</td>\n",
       "      <td>Product</td>\n",
       "      <td>Yes</td>\n",
       "      <td>2</td>\n",
       "      <td>NaN</td>\n",
       "      <td>5.8</td>\n",
       "      <td>0.49</td>\n",
       "    </tr>\n",
       "    <tr>\n",
       "      <th>3</th>\n",
       "      <td>fffe32003400380032003900</td>\n",
       "      <td>11/3/2008</td>\n",
       "      <td>Male</td>\n",
       "      <td>Service</td>\n",
       "      <td>Yes</td>\n",
       "      <td>1</td>\n",
       "      <td>1.0</td>\n",
       "      <td>2.6</td>\n",
       "      <td>0.20</td>\n",
       "    </tr>\n",
       "    <tr>\n",
       "      <th>4</th>\n",
       "      <td>fffe31003900340031003600</td>\n",
       "      <td>7/24/2008</td>\n",
       "      <td>Female</td>\n",
       "      <td>Service</td>\n",
       "      <td>No</td>\n",
       "      <td>3</td>\n",
       "      <td>7.0</td>\n",
       "      <td>6.9</td>\n",
       "      <td>0.52</td>\n",
       "    </tr>\n",
       "  </tbody>\n",
       "</table>\n",
       "</div>"
      ],
      "text/plain": [
       "                Employee ID Date of Joining  Gender Company Type  \\\n",
       "0  fffe32003000360033003200       9/30/2008  Female      Service   \n",
       "1      fffe3700360033003500      11/30/2008    Male      Service   \n",
       "2  fffe31003300320037003900       3/10/2008  Female      Product   \n",
       "3  fffe32003400380032003900       11/3/2008    Male      Service   \n",
       "4  fffe31003900340031003600       7/24/2008  Female      Service   \n",
       "\n",
       "  WFH Setup Available  Designation  Resource Allocation  Mental Fatigue Score  \\\n",
       "0                  No            2                  3.0                   3.8   \n",
       "1                 Yes            1                  2.0                   5.0   \n",
       "2                 Yes            2                  NaN                   5.8   \n",
       "3                 Yes            1                  1.0                   2.6   \n",
       "4                  No            3                  7.0                   6.9   \n",
       "\n",
       "   Burn Rate  \n",
       "0       0.16  \n",
       "1       0.36  \n",
       "2       0.49  \n",
       "3       0.20  \n",
       "4       0.52  "
      ]
     },
     "execution_count": 36,
     "metadata": {},
     "output_type": "execute_result"
    }
   ],
   "source": [
    "df = pd.read_csv(\"G:\\Revature Training\\Projects\\Project_2\\Dataset\\employeeburndataset.csv\")\n",
    "df.head()"
   ]
  },
  {
   "cell_type": "code",
   "execution_count": 37,
   "metadata": {},
   "outputs": [
    {
     "data": {
      "text/plain": [
       "(22750, 9)"
      ]
     },
     "execution_count": 37,
     "metadata": {},
     "output_type": "execute_result"
    }
   ],
   "source": [
    "df.shape"
   ]
  },
  {
   "cell_type": "code",
   "execution_count": 38,
   "metadata": {
    "scrolled": false
   },
   "outputs": [
    {
     "name": "stdout",
     "output_type": "stream",
     "text": [
      "<class 'pandas.core.frame.DataFrame'>\n",
      "RangeIndex: 22750 entries, 0 to 22749\n",
      "Data columns (total 9 columns):\n",
      " #   Column                Non-Null Count  Dtype  \n",
      "---  ------                --------------  -----  \n",
      " 0   Employee ID           22750 non-null  object \n",
      " 1   Date of Joining       22750 non-null  object \n",
      " 2   Gender                22750 non-null  object \n",
      " 3   Company Type          22750 non-null  object \n",
      " 4   WFH Setup Available   22750 non-null  object \n",
      " 5   Designation           22750 non-null  int64  \n",
      " 6   Resource Allocation   21369 non-null  float64\n",
      " 7   Mental Fatigue Score  20633 non-null  float64\n",
      " 8   Burn Rate             21626 non-null  float64\n",
      "dtypes: float64(3), int64(1), object(5)\n",
      "memory usage: 1.6+ MB\n"
     ]
    }
   ],
   "source": [
    "df.info()"
   ]
  },
  {
   "cell_type": "code",
   "execution_count": 39,
   "metadata": {},
   "outputs": [],
   "source": [
    "def showrel(df):\n",
    "    d = pd.DataFrame(columns=['Column_name','NA_count','NA_count_Per','NA_Average','NA_Avg_Per'])\n",
    "    Column_name,NA_count,NA_count_per,NA_Average,NA_Avg_Per= [],[],[],[],[]\n",
    "    for j in df.columns:\n",
    "        Column_name.append(j)\n",
    "        NA_count.append(df[j].isna().sum())\n",
    "        NA_count_per.append(((df[j].isna().sum())/len(df))*100)\n",
    "        \n",
    "        NA_Average.append(round(df[j].isna().mean(),2))\n",
    "        NA_Avg_Per.append(round(df[j].isna().mean()*100,2))\n",
    "    d['Column_name'],d['NA_count'],d['NA_count_Per'],d['NA_Average'],d['NA_Avg_Per'] = Column_name,NA_count,NA_count_per,NA_Average,NA_Avg_Per\n",
    "    d.to_csv('G:\\Revature Training\\Projects\\Project_2\\Dataset\\missingdata.csv',index=True)\n",
    "    return d"
   ]
  },
  {
   "cell_type": "code",
   "execution_count": 40,
   "metadata": {},
   "outputs": [
    {
     "data": {
      "text/html": [
       "<div>\n",
       "<style scoped>\n",
       "    .dataframe tbody tr th:only-of-type {\n",
       "        vertical-align: middle;\n",
       "    }\n",
       "\n",
       "    .dataframe tbody tr th {\n",
       "        vertical-align: top;\n",
       "    }\n",
       "\n",
       "    .dataframe thead th {\n",
       "        text-align: right;\n",
       "    }\n",
       "</style>\n",
       "<table border=\"1\" class=\"dataframe\">\n",
       "  <thead>\n",
       "    <tr style=\"text-align: right;\">\n",
       "      <th></th>\n",
       "      <th>Column_name</th>\n",
       "      <th>NA_count</th>\n",
       "      <th>NA_count_Per</th>\n",
       "      <th>NA_Average</th>\n",
       "      <th>NA_Avg_Per</th>\n",
       "    </tr>\n",
       "  </thead>\n",
       "  <tbody>\n",
       "    <tr>\n",
       "      <th>0</th>\n",
       "      <td>Employee ID</td>\n",
       "      <td>0</td>\n",
       "      <td>0.000000</td>\n",
       "      <td>0.00</td>\n",
       "      <td>0.00</td>\n",
       "    </tr>\n",
       "    <tr>\n",
       "      <th>1</th>\n",
       "      <td>Date of Joining</td>\n",
       "      <td>0</td>\n",
       "      <td>0.000000</td>\n",
       "      <td>0.00</td>\n",
       "      <td>0.00</td>\n",
       "    </tr>\n",
       "    <tr>\n",
       "      <th>2</th>\n",
       "      <td>Gender</td>\n",
       "      <td>0</td>\n",
       "      <td>0.000000</td>\n",
       "      <td>0.00</td>\n",
       "      <td>0.00</td>\n",
       "    </tr>\n",
       "    <tr>\n",
       "      <th>3</th>\n",
       "      <td>Company Type</td>\n",
       "      <td>0</td>\n",
       "      <td>0.000000</td>\n",
       "      <td>0.00</td>\n",
       "      <td>0.00</td>\n",
       "    </tr>\n",
       "    <tr>\n",
       "      <th>4</th>\n",
       "      <td>WFH Setup Available</td>\n",
       "      <td>0</td>\n",
       "      <td>0.000000</td>\n",
       "      <td>0.00</td>\n",
       "      <td>0.00</td>\n",
       "    </tr>\n",
       "    <tr>\n",
       "      <th>5</th>\n",
       "      <td>Designation</td>\n",
       "      <td>0</td>\n",
       "      <td>0.000000</td>\n",
       "      <td>0.00</td>\n",
       "      <td>0.00</td>\n",
       "    </tr>\n",
       "    <tr>\n",
       "      <th>6</th>\n",
       "      <td>Resource Allocation</td>\n",
       "      <td>1381</td>\n",
       "      <td>6.070330</td>\n",
       "      <td>0.06</td>\n",
       "      <td>6.07</td>\n",
       "    </tr>\n",
       "    <tr>\n",
       "      <th>7</th>\n",
       "      <td>Mental Fatigue Score</td>\n",
       "      <td>2117</td>\n",
       "      <td>9.305495</td>\n",
       "      <td>0.09</td>\n",
       "      <td>9.31</td>\n",
       "    </tr>\n",
       "    <tr>\n",
       "      <th>8</th>\n",
       "      <td>Burn Rate</td>\n",
       "      <td>1124</td>\n",
       "      <td>4.940659</td>\n",
       "      <td>0.05</td>\n",
       "      <td>4.94</td>\n",
       "    </tr>\n",
       "  </tbody>\n",
       "</table>\n",
       "</div>"
      ],
      "text/plain": [
       "            Column_name  NA_count  NA_count_Per  NA_Average  NA_Avg_Per\n",
       "0           Employee ID         0      0.000000        0.00        0.00\n",
       "1       Date of Joining         0      0.000000        0.00        0.00\n",
       "2                Gender         0      0.000000        0.00        0.00\n",
       "3          Company Type         0      0.000000        0.00        0.00\n",
       "4   WFH Setup Available         0      0.000000        0.00        0.00\n",
       "5           Designation         0      0.000000        0.00        0.00\n",
       "6   Resource Allocation      1381      6.070330        0.06        6.07\n",
       "7  Mental Fatigue Score      2117      9.305495        0.09        9.31\n",
       "8             Burn Rate      1124      4.940659        0.05        4.94"
      ]
     },
     "execution_count": 40,
     "metadata": {},
     "output_type": "execute_result"
    }
   ],
   "source": [
    "showrel(df)"
   ]
  },
  {
   "cell_type": "code",
   "execution_count": 41,
   "metadata": {},
   "outputs": [],
   "source": [
    "report = pf.ProfileReport(df)"
   ]
  },
  {
   "cell_type": "code",
   "execution_count": 42,
   "metadata": {},
   "outputs": [
    {
     "data": {
      "application/vnd.jupyter.widget-view+json": {
       "model_id": "1d9ae89b0ffc4e18b12ab248f42015c4",
       "version_major": 2,
       "version_minor": 0
      },
      "text/plain": [
       "HBox(children=(HTML(value='Summarize dataset'), FloatProgress(value=0.0, max=22.0), HTML(value='')))"
      ]
     },
     "metadata": {},
     "output_type": "display_data"
    },
    {
     "name": "stdout",
     "output_type": "stream",
     "text": [
      "\n"
     ]
    },
    {
     "data": {
      "application/vnd.jupyter.widget-view+json": {
       "model_id": "f7c257f4373c40839a7b7205b9d9bbfb",
       "version_major": 2,
       "version_minor": 0
      },
      "text/plain": [
       "HBox(children=(HTML(value='Generate report structure'), FloatProgress(value=0.0, max=1.0), HTML(value='')))"
      ]
     },
     "metadata": {},
     "output_type": "display_data"
    },
    {
     "name": "stdout",
     "output_type": "stream",
     "text": [
      "\n"
     ]
    },
    {
     "data": {
      "application/vnd.jupyter.widget-view+json": {
       "model_id": "6e1b57ce0e014b4da468c8c56e8df002",
       "version_major": 2,
       "version_minor": 0
      },
      "text/plain": [
       "HBox(children=(HTML(value='Render HTML'), FloatProgress(value=0.0, max=1.0), HTML(value='')))"
      ]
     },
     "metadata": {},
     "output_type": "display_data"
    },
    {
     "name": "stdout",
     "output_type": "stream",
     "text": [
      "\n"
     ]
    },
    {
     "data": {
      "application/vnd.jupyter.widget-view+json": {
       "model_id": "3b754e6d560d4e568f70ffef7cf859b4",
       "version_major": 2,
       "version_minor": 0
      },
      "text/plain": [
       "HBox(children=(HTML(value='Export report to file'), FloatProgress(value=0.0, max=1.0), HTML(value='')))"
      ]
     },
     "metadata": {},
     "output_type": "display_data"
    },
    {
     "name": "stdout",
     "output_type": "stream",
     "text": [
      "\n"
     ]
    }
   ],
   "source": [
    "report.to_file(output_file=\"G:\\Revature Training\\Projects\\Project_2\\Report\\project2eport.html\")"
   ]
  },
  {
   "cell_type": "code",
   "execution_count": 26,
   "metadata": {},
   "outputs": [
    {
     "data": {
      "text/plain": [
       "4.0     3893\n",
       "5.0     3861\n",
       "3.0     3192\n",
       "6.0     2943\n",
       "2.0     2075\n",
       "7.0     1965\n",
       "1.0     1791\n",
       "8.0     1044\n",
       "9.0      446\n",
       "10.0     159\n",
       "Name: Resource Allocation, dtype: int64"
      ]
     },
     "execution_count": 26,
     "metadata": {},
     "output_type": "execute_result"
    }
   ],
   "source": [
    "df['Resource Allocation'].value_counts()"
   ]
  },
  {
   "cell_type": "markdown",
   "metadata": {},
   "source": [
    "def RSI(df,variable):#,median):\n",
    "    #df[variable+'_median'] = df[variable].fillna(median)#replace Nan with median\n",
    "    df[variable+'_random'] = df[variable]#Copy feature into new feature\n",
    "    #calculate random smaple and store into random_sample_values\n",
    "    random_sample_value = df[variable].dropna().sample(df[variable].isnull().sum(),random_state=0)\n",
    "    #in random_sample_value all filled nan values are present now we want to put/merge this all filled values in our dataset\n",
    "    # for this we want to match all nan values index in random_sample_values with df[variavle_'random] \n",
    "    #Pandas need to have same index in order to merge dataset\n",
    "    random_sample_value.index = df[df[variable].isnull()].index#find index of NaN values in feature\n",
    "    #now put a condition where ever it is null with loc function then replace with random_sample_values\n",
    "    df.loc[df[variable].isnull(),variable+'_random'] =random_sample_value"
   ]
  },
  {
   "cell_type": "code",
   "execution_count": 13,
   "metadata": {},
   "outputs": [],
   "source": [
    "def RSI(df,variable):#,median):\n",
    "    df[variable] = df[variable]#Copy feature into new feature\n",
    "    #calculate random smaple and store into random_sample_values\n",
    "    random_sample_value = df[variable].dropna().sample(df[variable].isnull().sum(),random_state=0)\n",
    "    #in random_sample_value all filled nan values are present now we want to put/merge this all filled values in our dataset\n",
    "    # for this we want to match all nan values index in random_sample_values with df[variavle_'random] \n",
    "    #Pandas need to have same index in order to merge dataset\n",
    "    random_sample_value.index = df[df[variable].isnull()].index#find index of NaN values in feature\n",
    "    #now put a condition where ever it is null with loc function then replace with random_sample_values\n",
    "    df.loc[df[variable].isnull(),variable] =random_sample_value"
   ]
  },
  {
   "cell_type": "code",
   "execution_count": 14,
   "metadata": {},
   "outputs": [],
   "source": [
    "for i in df.columns[df.isnull().any()]:\n",
    "    RSI(df,i)"
   ]
  },
  {
   "cell_type": "code",
   "execution_count": 15,
   "metadata": {},
   "outputs": [
    {
     "data": {
      "text/plain": [
       "<AxesSubplot:ylabel='Density'>"
      ]
     },
     "execution_count": 15,
     "metadata": {},
     "output_type": "execute_result"
    },
    {
     "data": {
      "image/png": "[encoded data removed]",
      "text/plain": [
       "<Figure size 864x576 with 1 Axes>"
      ]
     },
     "metadata": {
      "needs_background": "light"
     },
     "output_type": "display_data"
    }
   ],
   "source": [
    "plt.figure(figsize=(12,8))\n",
    "df['Resource Allocation'].plot(kind='kde',color='r')\n",
    "df['Mental Fatigue Score'].plot(kind='kde',color='y')\n",
    "df['Burn Rate'].plot(kind='kde',color='b')"
   ]
  },
  {
   "cell_type": "code",
   "execution_count": 16,
   "metadata": {},
   "outputs": [
    {
     "data": {
      "text/plain": [
       "Employee ID             0\n",
       "Date of Joining         0\n",
       "Gender                  0\n",
       "Company Type            0\n",
       "WFH Setup Available     0\n",
       "Designation             0\n",
       "Resource Allocation     0\n",
       "Mental Fatigue Score    0\n",
       "Burn Rate               0\n",
       "dtype: int64"
      ]
     },
     "execution_count": 16,
     "metadata": {},
     "output_type": "execute_result"
    }
   ],
   "source": [
    "df.isna().sum()"
   ]
  },
  {
   "cell_type": "code",
   "execution_count": 95,
   "metadata": {},
   "outputs": [],
   "source": [
    "df.to_csv(\"Project_2_dataset.csv\")"
   ]
  },
  {
   "cell_type": "code",
   "execution_count": null,
   "metadata": {},
   "outputs": [],
   "source": []
  }
 ],
 "metadata": {
  "kernelspec": {
   "display_name": "Python 3",
   "language": "python",
   "name": "python3"
  },
  "language_info": {
   "codemirror_mode": {
    "name": "ipython",
    "version": 3
   },
   "file_extension": ".py",
   "mimetype": "text/x-python",
   "name": "python",
   "nbconvert_exporter": "python",
   "pygments_lexer": "ipython3",
   "version": "3.8.5"
  }
 },
 "nbformat": 4,
 "nbformat_minor": 4
}
